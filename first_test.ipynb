import pandas
nome="Diego"
print(nome)
